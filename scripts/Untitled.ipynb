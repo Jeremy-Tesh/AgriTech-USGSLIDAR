{
 "cells": [
  {
   "cell_type": "code",
   "execution_count": 10,
   "id": "30654458",
   "metadata": {},
   "outputs": [],
   "source": [
    "import pandas as pd\n",
    "from constants import state_mapper\n",
    "from urllib.request import urlopen\n",
    "import json"
   ]
  },
  {
   "cell_type": "code",
   "execution_count": null,
   "id": "3123f130",
   "metadata": {},
   "outputs": [],
   "source": [
    "data = []\n",
    "    \n",
    "for k,state in state_mapper.items():\n",
    "    url = f\"https://s3-us-west-2.amazonaws.com/usgs-lidar-public/{state}/ept.json\"\n",
    "        \n",
    "        \n",
    "    response = None\n",
    "    # store the response of URL\n",
    "    try:\n",
    "        response = urlopen(url)\n",
    "    except Exception as e:\n",
    "        print(e)\n",
    "        \n",
    "    if response:\n",
    "    # storing the JSON response \n",
    "        json_obj = json.loads(response.read())\n",
    "        lc = {}\n",
    "    # access properties from this file\n",
    "        lc['state_description'] = state\n",
    "            \n",
    "    try:\n",
    "               \n",
    "        lc['year'] = parse(state,fuzzy=True).year\n",
    "        lc['points'] = json_obj['points']\n",
    "        lc['bounds'] = json_obj['bounds']\n",
    "        lc['X'] = json_obj['schema'][0]['offset']\n",
    "        lc['Y'] = json_obj['schema'][1]['offset']\n",
    "        lc['Z'] = json_obj['schema'][2]['offset']\n",
    "        lc['EPSG'] = json_obj['srs']['authority']\n",
    "        lc['EPSG_Output'] = json_obj['srs']['horizontal']\n",
    "\n",
    "    except Exception as e:\n",
    "               \n",
    "        lc['year'] = 1000\n",
    "            \n",
    "        data.append(lc)\n",
    "                \n",
    "df=pd.DataFrame(data)    \n",
    "df.to_csv(filename,index=False)"
   ]
  },
  {
   "cell_type": "code",
   "execution_count": null,
   "id": "ade37554",
   "metadata": {},
   "outputs": [],
   "source": []
  }
 ],
 "metadata": {
  "kernelspec": {
   "display_name": "Python 3 (ipykernel)",
   "language": "python",
   "name": "python3"
  },
  "language_info": {
   "codemirror_mode": {
    "name": "ipython",
    "version": 3
   },
   "file_extension": ".py",
   "mimetype": "text/x-python",
   "name": "python",
   "nbconvert_exporter": "python",
   "pygments_lexer": "ipython3",
   "version": "3.9.7"
  }
 },
 "nbformat": 4,
 "nbformat_minor": 5
}
